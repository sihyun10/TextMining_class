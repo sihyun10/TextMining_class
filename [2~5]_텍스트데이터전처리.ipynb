{
  "nbformat": 4,
  "nbformat_minor": 0,
  "metadata": {
    "colab": {
      "provenance": [],
      "authorship_tag": "ABX9TyONUMwnpfrhviDLzociF67R",
      "include_colab_link": true
    },
    "kernelspec": {
      "name": "python3",
      "display_name": "Python 3"
    },
    "language_info": {
      "name": "python"
    }
  },
  "cells": [
    {
      "cell_type": "markdown",
      "metadata": {
        "id": "view-in-github",
        "colab_type": "text"
      },
      "source": [
        "<a href=\"https://colab.research.google.com/github/sihyun10/TextMining_class/blob/main/%5B2~5%5D_%ED%85%8D%EC%8A%A4%ED%8A%B8%EB%8D%B0%EC%9D%B4%ED%84%B0%EC%A0%84%EC%B2%98%EB%A6%AC.ipynb\" target=\"_parent\"><img src=\"https://colab.research.google.com/assets/colab-badge.svg\" alt=\"Open In Colab\"/></a>"
      ]
    },
    {
      "cell_type": "markdown",
      "source": [
        "- 학습목표\n",
        "\n",
        " 텍스트 데이터의 정규 표현식을 구현.\n",
        "\n",
        "  : 정규식 기호\n",
        "  \n",
        "  : complied, findall, search, sub 등"
      ],
      "metadata": {
        "id": "h9qHltEYfR82"
      }
    },
    {
      "cell_type": "code",
      "execution_count": 1,
      "metadata": {
        "id": "l7u9cYcGdeac"
      },
      "outputs": [],
      "source": [
        "#정규 표현식 수행하기\n",
        "#이메일 주소 패턴에 해당하는 문자열을 찾아 삭제"
      ]
    },
    {
      "cell_type": "code",
      "source": [
        "string = \"김해준이부캐카페사장최준을소환해박세리를향한적극적인구애를펼친다. 오늘(22일) 오후9시방송될MBC 안싸우면다행이야에는박세리, 강남, 박태환의내손내잡(내손으로내가잡는다) 이야기가그려진다. 빽토커로는개그맨허경환, 김해준이출연한다. 이날강남, 박태환은박세리의이상형에대해이야기를나눈다. 강남은박세리에누나내년에결혼해야지. 맥주도끊고라며귀여운잔소리를늘어놓고, 박세리는나는내남자친구가소주좀마셨으면좋겠다라고이상형토크에물꼬를튼다. 또그는자연스러운만남을추구한다. 친구같은남자가좋다라고덧붙인다. 스튜디오에서이를지켜본김해준은자신의부캐(부캐릭터)인최준으로돌변, 박세리를향한연하남의직진을보여준다. 골프를통해박세리와자연스럽게만났다고밝힌최준은누나가아닌세리씨라고하겠다. 동생이아닌이성으로만났기때문이다. 또나는소주를두세병씩마신다라며호감을드러내스튜디오를핑크빛으로물들인다. 하지만최준은박세리에게고백을하기도전에차이는상황에놓인다. 박세리가연하는한번도안만나봤다. 나보다무조건한살이라도많아야한다라고밝힌것. 흥미진진해지는전개에붐, 안정환, 허경환은치고나갈수있냐라고묻고, 최준은사랑에대한가치관은변하기마련이라며이승기의내여자라니까를열창해웃음을안긴다. 황소영엔터뉴스팀기자hwang.soyoung@jtbc.co.kr (콘텐트비즈니스본부)\""
      ],
      "metadata": {
        "id": "9LACD4EDftX-"
      },
      "execution_count": 2,
      "outputs": []
    },
    {
      "cell_type": "code",
      "source": [
        "string"
      ],
      "metadata": {
        "colab": {
          "base_uri": "https://localhost:8080/",
          "height": 144
        },
        "id": "S4dGxaiHf2F-",
        "outputId": "e9810ec0-a460-4382-a6c2-21099a2c22fa"
      },
      "execution_count": 3,
      "outputs": [
        {
          "output_type": "execute_result",
          "data": {
            "text/plain": [
              "'김해준이부캐카페사장최준을소환해박세리를향한적극적인구애를펼친다. 오늘(22일) 오후9시방송될MBC 안싸우면다행이야에는박세리, 강남, 박태환의내손내잡(내손으로내가잡는다) 이야기가그려진다. 빽토커로는개그맨허경환, 김해준이출연한다. 이날강남, 박태환은박세리의이상형에대해이야기를나눈다. 강남은박세리에누나내년에결혼해야지. 맥주도끊고라며귀여운잔소리를늘어놓고, 박세리는나는내남자친구가소주좀마셨으면좋겠다라고이상형토크에물꼬를튼다. 또그는자연스러운만남을추구한다. 친구같은남자가좋다라고덧붙인다. 스튜디오에서이를지켜본김해준은자신의부캐(부캐릭터)인최준으로돌변, 박세리를향한연하남의직진을보여준다. 골프를통해박세리와자연스럽게만났다고밝힌최준은누나가아닌세리씨라고하겠다. 동생이아닌이성으로만났기때문이다. 또나는소주를두세병씩마신다라며호감을드러내스튜디오를핑크빛으로물들인다. 하지만최준은박세리에게고백을하기도전에차이는상황에놓인다. 박세리가연하는한번도안만나봤다. 나보다무조건한살이라도많아야한다라고밝힌것. 흥미진진해지는전개에붐, 안정환, 허경환은치고나갈수있냐라고묻고, 최준은사랑에대한가치관은변하기마련이라며이승기의내여자라니까를열창해웃음을안긴다. 황소영엔터뉴스팀기자hwang.soyoung@jtbc.co.kr (콘텐트비즈니스본부)'"
            ],
            "application/vnd.google.colaboratory.intrinsic+json": {
              "type": "string"
            }
          },
          "metadata": {},
          "execution_count": 3
        }
      ]
    },
    {
      "cell_type": "code",
      "source": [
        "import re"
      ],
      "metadata": {
        "id": "a6xp-V0wf20X"
      },
      "execution_count": 4,
      "outputs": []
    },
    {
      "cell_type": "code",
      "source": [
        "re.sub(\"([a-zA-Z0-9_.+-]+@[a-zA-Z0-9-]+\\.[a-zA-Z0-9-.]+)\", \"\", string)"
      ],
      "metadata": {
        "colab": {
          "base_uri": "https://localhost:8080/",
          "height": 144
        },
        "id": "R62rOflzf6OZ",
        "outputId": "7b9b6ea7-0b57-411c-aa3b-93863039f4c5"
      },
      "execution_count": 6,
      "outputs": [
        {
          "output_type": "execute_result",
          "data": {
            "text/plain": [
              "'김해준이부캐카페사장최준을소환해박세리를향한적극적인구애를펼친다. 오늘(22일) 오후9시방송될MBC 안싸우면다행이야에는박세리, 강남, 박태환의내손내잡(내손으로내가잡는다) 이야기가그려진다. 빽토커로는개그맨허경환, 김해준이출연한다. 이날강남, 박태환은박세리의이상형에대해이야기를나눈다. 강남은박세리에누나내년에결혼해야지. 맥주도끊고라며귀여운잔소리를늘어놓고, 박세리는나는내남자친구가소주좀마셨으면좋겠다라고이상형토크에물꼬를튼다. 또그는자연스러운만남을추구한다. 친구같은남자가좋다라고덧붙인다. 스튜디오에서이를지켜본김해준은자신의부캐(부캐릭터)인최준으로돌변, 박세리를향한연하남의직진을보여준다. 골프를통해박세리와자연스럽게만났다고밝힌최준은누나가아닌세리씨라고하겠다. 동생이아닌이성으로만났기때문이다. 또나는소주를두세병씩마신다라며호감을드러내스튜디오를핑크빛으로물들인다. 하지만최준은박세리에게고백을하기도전에차이는상황에놓인다. 박세리가연하는한번도안만나봤다. 나보다무조건한살이라도많아야한다라고밝힌것. 흥미진진해지는전개에붐, 안정환, 허경환은치고나갈수있냐라고묻고, 최준은사랑에대한가치관은변하기마련이라며이승기의내여자라니까를열창해웃음을안긴다. 황소영엔터뉴스팀기자 (콘텐트비즈니스본부)'"
            ],
            "application/vnd.google.colaboratory.intrinsic+json": {
              "type": "string"
            }
          },
          "metadata": {},
          "execution_count": 6
        }
      ]
    },
    {
      "cell_type": "code",
      "source": [
        "#문자열 찾아보기\n",
        "#re 라이브러리의 compile과 findall 함수\n",
        "\n",
        "#a라는 문자가 1번 이상 나온 다음에\n",
        "#b라는 문자가 0번 이상 나오는 문자열 찾아보기"
      ],
      "metadata": {
        "id": "1wATPeN5gKFQ"
      },
      "execution_count": 7,
      "outputs": []
    },
    {
      "cell_type": "code",
      "source": [
        "import re"
      ],
      "metadata": {
        "id": "La2VMQMehHiF"
      },
      "execution_count": 8,
      "outputs": []
    },
    {
      "cell_type": "code",
      "source": [
        "r = re.compile(\"a+b*\")"
      ],
      "metadata": {
        "id": "O86pR7dmhIT4"
      },
      "execution_count": 9,
      "outputs": []
    },
    {
      "cell_type": "code",
      "source": [
        "r.findall(\"aaaa,cc,bbbb,aabb\")"
      ],
      "metadata": {
        "colab": {
          "base_uri": "https://localhost:8080/"
        },
        "id": "vlfDbY2ZhKvc",
        "outputId": "b33903e5-e34a-4a9d-b51d-bc590309b5ce"
      },
      "execution_count": 10,
      "outputs": [
        {
          "output_type": "execute_result",
          "data": {
            "text/plain": [
              "['aaaa', 'aabb']"
            ]
          },
          "metadata": {},
          "execution_count": 10
        }
      ]
    },
    {
      "cell_type": "code",
      "source": [
        "#대괄호를 이용해 대문자로 구성된 문자열 찾아보기\n",
        "\n",
        "r = re.compile(\"[A-Z]+\")"
      ],
      "metadata": {
        "id": "FDSkxNvehMaA"
      },
      "execution_count": 11,
      "outputs": []
    },
    {
      "cell_type": "code",
      "source": [
        "r.findall(\"SOONCHUNHYANG, soonchunhyang\")"
      ],
      "metadata": {
        "colab": {
          "base_uri": "https://localhost:8080/"
        },
        "id": "zpx_7IfBhZuE",
        "outputId": "89e0feaa-3312-4cfc-e152-3b26dc71f17c"
      },
      "execution_count": 12,
      "outputs": [
        {
          "output_type": "execute_result",
          "data": {
            "text/plain": [
              "['SOONCHUNHYANG']"
            ]
          },
          "metadata": {},
          "execution_count": 12
        }
      ]
    },
    {
      "cell_type": "code",
      "source": [
        "#^와 .을 이용하여 맨 앞에 a가 온 다음에\n",
        "#어떠한 형태든 2개의 문자가 오는 문자열 찾아보기\n",
        "\n",
        "r = re.compile(\"^a..\")"
      ],
      "metadata": {
        "id": "_v_lOy9Vhdy4"
      },
      "execution_count": 13,
      "outputs": []
    },
    {
      "cell_type": "code",
      "source": [
        "r.findall(\"aespa,swings\")"
      ],
      "metadata": {
        "colab": {
          "base_uri": "https://localhost:8080/"
        },
        "id": "-3ApCQSlhnSC",
        "outputId": "bf9e2748-e2cc-419a-ea29-e0708d8b81cf"
      },
      "execution_count": 14,
      "outputs": [
        {
          "output_type": "execute_result",
          "data": {
            "text/plain": [
              "['aes']"
            ]
          },
          "metadata": {},
          "execution_count": 14
        }
      ]
    },
    {
      "cell_type": "code",
      "source": [
        "#중괄호 표현식 {m,n}을 이용하여\n",
        "#해당 문자열이 m번 이상 n번 이하 나타내는 패턴 찾아보기\n",
        "\n",
        "r = re.compile(\"a{2,3}b{2,3}\")"
      ],
      "metadata": {
        "id": "0q8NISBxhpTM"
      },
      "execution_count": 15,
      "outputs": []
    },
    {
      "cell_type": "code",
      "source": [
        "r.findall(\"aabb,aaabb,ab,abb\")"
      ],
      "metadata": {
        "colab": {
          "base_uri": "https://localhost:8080/"
        },
        "id": "1fLXWM6UhyJu",
        "outputId": "abbf7725-3708-4961-a5d5-1e448bd0a02c"
      },
      "execution_count": 16,
      "outputs": [
        {
          "output_type": "execute_result",
          "data": {
            "text/plain": [
              "['aabb', 'aaabb']"
            ]
          },
          "metadata": {},
          "execution_count": 16
        }
      ]
    },
    {
      "cell_type": "code",
      "source": [
        "#re 라이브러리의 compile과 search 함수\n",
        "\n",
        "#지정된 정규 표현식 패턴과 일치하는 문자열 위치를 찾은 다음에\n",
        "#group 메서드를 통해 패턴과 일치하는 문자들을 그룹화하여 추출하기\n",
        "\n",
        "p = re.compile(\".+:\")"
      ],
      "metadata": {
        "id": "9OwzUd_Wh4Zy"
      },
      "execution_count": 17,
      "outputs": []
    },
    {
      "cell_type": "code",
      "source": [
        "m = p.search(\"https://home.sch.ac.kr/bigdata/index.jsp\")"
      ],
      "metadata": {
        "id": "h04hz9kJiOs5"
      },
      "execution_count": 18,
      "outputs": []
    },
    {
      "cell_type": "code",
      "source": [
        "m.group()"
      ],
      "metadata": {
        "colab": {
          "base_uri": "https://localhost:8080/",
          "height": 35
        },
        "id": "vqKEyZtziTFk",
        "outputId": "c8ca9946-cfad-4b93-eb95-b4fb66d7a1ad"
      },
      "execution_count": 19,
      "outputs": [
        {
          "output_type": "execute_result",
          "data": {
            "text/plain": [
              "'https:'"
            ],
            "application/vnd.google.colaboratory.intrinsic+json": {
              "type": "string"
            }
          },
          "metadata": {},
          "execution_count": 19
        }
      ]
    },
    {
      "cell_type": "code",
      "source": [
        "#re 라이브러리의 compile과 sub 함수\n",
        "\n",
        "#첫번째 인수에 바꿀 문자열을 입력한 다음에\n",
        "#두번째 인수에 대상 문자열을 입력하여 문자 변경하기\n",
        "\n",
        "p = re.compile(\"(이준호)\")"
      ],
      "metadata": {
        "id": "380JW8-niTyA"
      },
      "execution_count": 20,
      "outputs": []
    },
    {
      "cell_type": "code",
      "source": [
        "p.sub(\"최준\",\"이준호 : 우리집으로 가자!\")"
      ],
      "metadata": {
        "colab": {
          "base_uri": "https://localhost:8080/",
          "height": 35
        },
        "id": "6SvDP3XainPz",
        "outputId": "e0160735-2ede-404f-a6fd-842ef84ec25f"
      },
      "execution_count": 21,
      "outputs": [
        {
          "output_type": "execute_result",
          "data": {
            "text/plain": [
              "'최준 : 우리집으로 가자!'"
            ],
            "application/vnd.google.colaboratory.intrinsic+json": {
              "type": "string"
            }
          },
          "metadata": {},
          "execution_count": 21
        }
      ]
    },
    {
      "cell_type": "markdown",
      "source": [
        "**학습목표**\n",
        "\n",
        "정교한 정제 작업이 필요한 텍스트 데이터를 어떻게 처리할지에 관해 이해.\n",
        "\n",
        "텍스트 데이터의 사전처리를 수행할 수 있다.\n",
        "\n",
        ": 대소문자 통일, 숫자, 문장부호, 특수문자 제거, 불용어 제거"
      ],
      "metadata": {
        "id": "tKhxRD5ai2Mt"
      }
    },
    {
      "cell_type": "code",
      "source": [
        "#대소문자 통일\n",
        "#lower()와 upper()함수\n",
        "\n",
        "s = \"Department of AI and Big Data\""
      ],
      "metadata": {
        "id": "5N_Z0zPjip1G"
      },
      "execution_count": 22,
      "outputs": []
    },
    {
      "cell_type": "code",
      "source": [
        "s.lower()"
      ],
      "metadata": {
        "colab": {
          "base_uri": "https://localhost:8080/",
          "height": 35
        },
        "id": "LhX3v4TajWW6",
        "outputId": "16559579-700c-466b-cfbd-91fae7245960"
      },
      "execution_count": 23,
      "outputs": [
        {
          "output_type": "execute_result",
          "data": {
            "text/plain": [
              "'department of ai and big data'"
            ],
            "application/vnd.google.colaboratory.intrinsic+json": {
              "type": "string"
            }
          },
          "metadata": {},
          "execution_count": 23
        }
      ]
    },
    {
      "cell_type": "code",
      "source": [
        "s.upper()"
      ],
      "metadata": {
        "colab": {
          "base_uri": "https://localhost:8080/",
          "height": 35
        },
        "id": "laFyYIGxjW67",
        "outputId": "6f8b1945-bf27-4550-d093-24e5d90fbb5a"
      },
      "execution_count": 24,
      "outputs": [
        {
          "output_type": "execute_result",
          "data": {
            "text/plain": [
              "'DEPARTMENT OF AI AND BIG DATA'"
            ],
            "application/vnd.google.colaboratory.intrinsic+json": {
              "type": "string"
            }
          },
          "metadata": {},
          "execution_count": 24
        }
      ]
    },
    {
      "cell_type": "code",
      "source": [
        "#숫자, 문장부호, 특수문자 제거\n",
        "#1. 숫자 제거\n",
        "\n",
        "import re"
      ],
      "metadata": {
        "id": "7EM1rU3LjXgd"
      },
      "execution_count": 25,
      "outputs": []
    },
    {
      "cell_type": "code",
      "source": [
        "p = re.compile(\"[0-9]+\")"
      ],
      "metadata": {
        "id": "GqIFcaNpjjeD"
      },
      "execution_count": 26,
      "outputs": []
    },
    {
      "cell_type": "code",
      "source": [
        "p.sub(\"\",\"작년 나의 연봉은 4200만원이었다.\")"
      ],
      "metadata": {
        "colab": {
          "base_uri": "https://localhost:8080/",
          "height": 35
        },
        "id": "PBMtNAD_jmVC",
        "outputId": "0496f338-6611-428e-93f0-eebeec1ccde7"
      },
      "execution_count": 27,
      "outputs": [
        {
          "output_type": "execute_result",
          "data": {
            "text/plain": [
              "'작년 나의 연봉은 만원이었다.'"
            ],
            "application/vnd.google.colaboratory.intrinsic+json": {
              "type": "string"
            }
          },
          "metadata": {},
          "execution_count": 27
        }
      ]
    },
    {
      "cell_type": "code",
      "source": [
        "p"
      ],
      "metadata": {
        "colab": {
          "base_uri": "https://localhost:8080/"
        },
        "id": "dYLW5vHKjppQ",
        "outputId": "09d058c8-3859-4877-a999-1ee71db889ef"
      },
      "execution_count": 28,
      "outputs": [
        {
          "output_type": "execute_result",
          "data": {
            "text/plain": [
              "re.compile(r'[0-9]+', re.UNICODE)"
            ]
          },
          "metadata": {},
          "execution_count": 28
        }
      ]
    },
    {
      "cell_type": "code",
      "source": [
        "#2. 문장부호, 특수문자 제거\n",
        "\n",
        "p = re.compile(\"\\W+\")"
      ],
      "metadata": {
        "id": "PBbmkYa2jqDJ"
      },
      "execution_count": 29,
      "outputs": []
    },
    {
      "cell_type": "code",
      "source": [
        "p.sub(\"\",\"내가 세상에서 가장 사랑하는 펭수♥♥\")"
      ],
      "metadata": {
        "colab": {
          "base_uri": "https://localhost:8080/",
          "height": 35
        },
        "id": "ZU2Mx4kDj3oF",
        "outputId": "508fecc2-b58a-4c73-ec8a-70474cb328a2"
      },
      "execution_count": 30,
      "outputs": [
        {
          "output_type": "execute_result",
          "data": {
            "text/plain": [
              "'내가세상에서가장사랑하는펭수'"
            ],
            "application/vnd.google.colaboratory.intrinsic+json": {
              "type": "string"
            }
          },
          "metadata": {},
          "execution_count": 30
        }
      ]
    },
    {
      "cell_type": "code",
      "source": [
        "p = re.compile(\"\\w+\")"
      ],
      "metadata": {
        "id": "F8pVS0krj-EB"
      },
      "execution_count": 31,
      "outputs": []
    },
    {
      "cell_type": "code",
      "source": [
        "p.sub(\"\",\"내가 세상에서 가장 사랑하는 펭수♥♥\")"
      ],
      "metadata": {
        "colab": {
          "base_uri": "https://localhost:8080/",
          "height": 35
        },
        "id": "BnR3chJ0kAzF",
        "outputId": "ddcff031-f6bc-47d6-cef9-19010973618f"
      },
      "execution_count": 32,
      "outputs": [
        {
          "output_type": "execute_result",
          "data": {
            "text/plain": [
              "'    ♥♥'"
            ],
            "application/vnd.google.colaboratory.intrinsic+json": {
              "type": "string"
            }
          },
          "metadata": {},
          "execution_count": 32
        }
      ]
    },
    {
      "cell_type": "code",
      "source": [
        "p = re.compile(\"\\W+\")"
      ],
      "metadata": {
        "id": "SfyRYBK9kC-7"
      },
      "execution_count": 33,
      "outputs": []
    },
    {
      "cell_type": "code",
      "source": [
        "s = p.sub(\"\",\"내가_진심으로_바라는 것은~~~ 우리_학생들의_행복\")"
      ],
      "metadata": {
        "id": "No8YsLGFkOEQ"
      },
      "execution_count": 36,
      "outputs": []
    },
    {
      "cell_type": "code",
      "source": [
        "s"
      ],
      "metadata": {
        "colab": {
          "base_uri": "https://localhost:8080/",
          "height": 35
        },
        "id": "mRMnqtNnkRbm",
        "outputId": "95b4e606-ef00-4834-a200-97dadf5ca7fa"
      },
      "execution_count": 37,
      "outputs": [
        {
          "output_type": "execute_result",
          "data": {
            "text/plain": [
              "'내가_진심으로_바라는것은우리_학생들의_행복'"
            ],
            "application/vnd.google.colaboratory.intrinsic+json": {
              "type": "string"
            }
          },
          "metadata": {},
          "execution_count": 37
        }
      ]
    },
    {
      "cell_type": "code",
      "source": [
        "p = re.compile(\"_\")"
      ],
      "metadata": {
        "id": "mZHdRVdpkR0w"
      },
      "execution_count": 38,
      "outputs": []
    },
    {
      "cell_type": "code",
      "source": [
        "p.sub(\"\",s)"
      ],
      "metadata": {
        "colab": {
          "base_uri": "https://localhost:8080/",
          "height": 35
        },
        "id": "fPQRQRN0km6P",
        "outputId": "13e2e71e-4b2f-4124-99bc-7d063b0a5731"
      },
      "execution_count": 39,
      "outputs": [
        {
          "output_type": "execute_result",
          "data": {
            "text/plain": [
              "'내가진심으로바라는것은우리학생들의행복'"
            ],
            "application/vnd.google.colaboratory.intrinsic+json": {
              "type": "string"
            }
          },
          "metadata": {},
          "execution_count": 39
        }
      ]
    },
    {
      "cell_type": "code",
      "source": [
        "#3.불용어 제거\n",
        "#NLTK 라이브러리\n",
        "#NLTK : 파이썬에서 가장 많이 쓰이는 텍스트 마이닝 패키지.\n",
        "#언어별로 불용어 리스트를 제공하고 있다.\n",
        "#한국어는 지원안함!\n",
        "\n",
        "!pip install nltk"
      ],
      "metadata": {
        "colab": {
          "base_uri": "https://localhost:8080/"
        },
        "id": "m0PGujvGkn1W",
        "outputId": "08e946a3-8a5e-44ef-e2e8-c56a006b58f8"
      },
      "execution_count": 40,
      "outputs": [
        {
          "output_type": "stream",
          "name": "stdout",
          "text": [
            "Looking in indexes: https://pypi.org/simple, https://us-python.pkg.dev/colab-wheels/public/simple/\n",
            "Requirement already satisfied: nltk in /usr/local/lib/python3.8/dist-packages (3.7)\n",
            "Requirement already satisfied: tqdm in /usr/local/lib/python3.8/dist-packages (from nltk) (4.64.1)\n",
            "Requirement already satisfied: regex>=2021.8.3 in /usr/local/lib/python3.8/dist-packages (from nltk) (2022.6.2)\n",
            "Requirement already satisfied: joblib in /usr/local/lib/python3.8/dist-packages (from nltk) (1.2.0)\n",
            "Requirement already satisfied: click in /usr/local/lib/python3.8/dist-packages (from nltk) (7.1.2)\n"
          ]
        }
      ]
    },
    {
      "cell_type": "code",
      "source": [
        "#stopwords 라이브러리 설치\n",
        "\n",
        "import nltk"
      ],
      "metadata": {
        "id": "ZRVFqgFAk-oY"
      },
      "execution_count": 41,
      "outputs": []
    },
    {
      "cell_type": "code",
      "source": [
        "nltk.download('stopwords')"
      ],
      "metadata": {
        "colab": {
          "base_uri": "https://localhost:8080/"
        },
        "id": "3pb8WwsolDDr",
        "outputId": "185ffb4b-1b15-4cc8-9822-22e7b37d09f5"
      },
      "execution_count": 42,
      "outputs": [
        {
          "output_type": "stream",
          "name": "stderr",
          "text": [
            "[nltk_data] Downloading package stopwords to /root/nltk_data...\n",
            "[nltk_data]   Unzipping corpora/stopwords.zip.\n"
          ]
        },
        {
          "output_type": "execute_result",
          "data": {
            "text/plain": [
              "True"
            ]
          },
          "metadata": {},
          "execution_count": 42
        }
      ]
    },
    {
      "cell_type": "code",
      "source": [
        "#불용어 제거 예시\n",
        "#한국어 불용어 제거\n",
        "\n",
        "words_Korean=[\"효정\",\"진이\",\"미미\",\"유아\",\"승희\",\"지호\",\"유빈\",\"아린\"]"
      ],
      "metadata": {
        "id": "t2M-rVt0lFwQ"
      },
      "execution_count": 43,
      "outputs": []
    },
    {
      "cell_type": "code",
      "source": [
        "stopwords=[\"진이\",\"지호\"]"
      ],
      "metadata": {
        "id": "Ltan-O2flOgj"
      },
      "execution_count": 44,
      "outputs": []
    },
    {
      "cell_type": "code",
      "source": [
        "[i for i in words_Korean if i not in stopwords]"
      ],
      "metadata": {
        "colab": {
          "base_uri": "https://localhost:8080/"
        },
        "id": "dMqT0JihlRJh",
        "outputId": "1fe0da87-9827-4e20-94fe-cfe80f973735"
      },
      "execution_count": 45,
      "outputs": [
        {
          "output_type": "execute_result",
          "data": {
            "text/plain": [
              "['효정', '미미', '유아', '승희', '유빈', '아린']"
            ]
          },
          "metadata": {},
          "execution_count": 45
        }
      ]
    },
    {
      "cell_type": "code",
      "source": [
        "#영어 불용어 제거\n",
        "from nltk.corpus import stopwords"
      ],
      "metadata": {
        "id": "sDcyhwF_lVZY"
      },
      "execution_count": 46,
      "outputs": []
    },
    {
      "cell_type": "code",
      "source": [
        "words_English= ['chief', 'justice', 'roberts', ',', 'president', 'carter', ',', 'president', 'clinton', ',', 'president’, ‘bush’, ‘,’, ‘president’, ‘obama’, ‘,’, ‘fellow’, ‘americans', 'and', 'people', 'of', 'the', 'world', ',', 'thank', 'you', '.' ]"
      ],
      "metadata": {
        "id": "nlOEfFNxlej7"
      },
      "execution_count": 48,
      "outputs": []
    },
    {
      "cell_type": "code",
      "source": [
        "print([w for w in words_English if not w in stopwords.words(\"english\")])"
      ],
      "metadata": {
        "colab": {
          "base_uri": "https://localhost:8080/"
        },
        "id": "KtVFmqdhlxE9",
        "outputId": "d35a6625-cba2-4faa-82b3-0468de14dd44"
      },
      "execution_count": 50,
      "outputs": [
        {
          "output_type": "stream",
          "name": "stdout",
          "text": [
            "['chief', 'justice', 'roberts', ',', 'president', 'carter', ',', 'president', 'clinton', ',', 'president’, ‘bush’, ‘,’, ‘president’, ‘obama’, ‘,’, ‘fellow’, ‘americans', 'people', 'world', ',', 'thank', '.']\n"
          ]
        }
      ]
    },
    {
      "cell_type": "markdown",
      "source": [
        "- 학습목표\n",
        "\n",
        "텍스트 데이터의 사전 처리를 수행할 수 있다.\n",
        "\n",
        ": 같은 어근 동일화, N-gram\n",
        "\n",
        "\n",
        "텍스트 데이터의 품사 분석을 수행할 수 있다."
      ],
      "metadata": {
        "id": "U9vONO_NmVQt"
      }
    },
    {
      "cell_type": "code",
      "source": [
        "#1. 같은 어근 동일화\n",
        "\n",
        "#어근 동일화를 제공하는 라이브러리\n",
        "# PorterStemmer(대표적인 NLTK 패키지), LancasterStemmer, RegexpStemmer\n",
        "\n",
        "#한국어는 형태소 분석기를 사용해야 한다."
      ],
      "metadata": {
        "id": "sz1oDriVmUi_"
      },
      "execution_count": 51,
      "outputs": []
    },
    {
      "cell_type": "code",
      "source": [
        "#같은 어근 동일화 예시\n",
        "#PorterStemmer 라이브러리\n",
        "\n",
        "import nltk"
      ],
      "metadata": {
        "id": "z8svUpAbnDqq"
      },
      "execution_count": 52,
      "outputs": []
    },
    {
      "cell_type": "code",
      "source": [
        "nltk.download('punkt')"
      ],
      "metadata": {
        "colab": {
          "base_uri": "https://localhost:8080/"
        },
        "id": "tRtc00KrnH0w",
        "outputId": "ba5ff978-c2db-4d24-89c0-34fed5540a4b"
      },
      "execution_count": 53,
      "outputs": [
        {
          "output_type": "stream",
          "name": "stderr",
          "text": [
            "[nltk_data] Downloading package punkt to /root/nltk_data...\n",
            "[nltk_data]   Unzipping tokenizers/punkt.zip.\n"
          ]
        },
        {
          "output_type": "execute_result",
          "data": {
            "text/plain": [
              "True"
            ]
          },
          "metadata": {},
          "execution_count": 53
        }
      ]
    },
    {
      "cell_type": "code",
      "source": [
        "from nltk.stem import PorterStemmer"
      ],
      "metadata": {
        "id": "1_xj8dnEnJWd"
      },
      "execution_count": 55,
      "outputs": []
    },
    {
      "cell_type": "code",
      "source": [
        "from nltk.tokenize import word_tokenize"
      ],
      "metadata": {
        "id": "h1vLHh3RnMeN"
      },
      "execution_count": 57,
      "outputs": []
    },
    {
      "cell_type": "code",
      "source": [
        "ps_stemmer= PorterStemmer()"
      ],
      "metadata": {
        "id": "PfcVqUBCnWFg"
      },
      "execution_count": 58,
      "outputs": []
    },
    {
      "cell_type": "code",
      "source": [
        "new_text = \"Dear Editors, Greeting, This is Jihoon Moon, the co-author of CLUS-D-21-00843R2. I am contacting you because I wonder how the process of our manuscript is going. We think all the preparations have been made for journal publication. However, it has been two months since we submitted the final revision, and we have not received any response. Could we know when we will receive the proofread or know another process for journal publication? Thank you very much for your efforts in the publication of our study. We are looking forward to hearing from you soon. Best regards, Jihoon Moon, Ph.D.\""
      ],
      "metadata": {
        "id": "SHNm9T0lnbL3"
      },
      "execution_count": 59,
      "outputs": []
    },
    {
      "cell_type": "code",
      "source": [
        "words = word_tokenize(new_text)"
      ],
      "metadata": {
        "id": "uJpt5abvneBU"
      },
      "execution_count": 60,
      "outputs": []
    },
    {
      "cell_type": "code",
      "source": [
        "for w in words: print(ps_stemmer.stem(w),end=' ')"
      ],
      "metadata": {
        "colab": {
          "base_uri": "https://localhost:8080/"
        },
        "id": "lSVlULg1ngyT",
        "outputId": "525c3315-63aa-4de8-ee34-bd7de984784e"
      },
      "execution_count": 61,
      "outputs": [
        {
          "output_type": "stream",
          "name": "stdout",
          "text": [
            "dear editor , greet , thi is jihoon moon , the co-author of clus-d-21-00843r2 . i am contact you becaus i wonder how the process of our manuscript is go . we think all the prepar have been made for journal public . howev , it ha been two month sinc we submit the final revis , and we have not receiv ani respons . could we know when we will receiv the proofread or know anoth process for journal public ? thank you veri much for your effort in the public of our studi . we are look forward to hear from you soon . best regard , jihoon moon , ph.d . "
          ]
        }
      ]
    },
    {
      "cell_type": "code",
      "source": [
        "#LancasterStemmer 라이브러리\n",
        "\n",
        "from nltk.stem.lancaster import LancasterStemmer"
      ],
      "metadata": {
        "id": "SeCiFwJ9nlKp"
      },
      "execution_count": 63,
      "outputs": []
    },
    {
      "cell_type": "code",
      "source": [
        "LS_stemmer= LancasterStemmer()"
      ],
      "metadata": {
        "id": "brZnJRqDnz4v"
      },
      "execution_count": 64,
      "outputs": []
    },
    {
      "cell_type": "code",
      "source": [
        "for w in words: print(LS_stemmer.stem(w), end = ' ')"
      ],
      "metadata": {
        "colab": {
          "base_uri": "https://localhost:8080/"
        },
        "id": "j8am4_7jn5G0",
        "outputId": "65cf66a5-5cf0-45a1-e01b-76ff5d44a287"
      },
      "execution_count": 65,
      "outputs": [
        {
          "output_type": "stream",
          "name": "stdout",
          "text": [
            "dear edit , greet , thi is jihoon moon , the co-author of clus-d-21-00843r2 . i am contact you becaus i wond how the process of our manuscrib is going . we think al the prep hav been mad for journ publ . howev , it has been two month sint we submit the fin revid , and we hav not receiv any respons . could we know when we wil receiv the proofread or know anoth process for journ publ ? thank you very much for yo effort in the publ of our study . we ar look forward to hear from you soon . best regard , jihoon moon , ph.d . "
          ]
        }
      ]
    },
    {
      "cell_type": "code",
      "source": [
        "#RegexpStemmer 라이브러리\n",
        "#특정한 표현식을 일괄적으로 제거하는 역할을 수행"
      ],
      "metadata": {
        "id": "1gb7aRsmn5ZR"
      },
      "execution_count": 66,
      "outputs": []
    },
    {
      "cell_type": "code",
      "source": [
        "from nltk.stem.regexp import RegexpStemmer"
      ],
      "metadata": {
        "id": "b2ffnPXloA36"
      },
      "execution_count": 67,
      "outputs": []
    },
    {
      "cell_type": "code",
      "source": [
        "RS_stemmer= RegexpStemmer(\"we\")"
      ],
      "metadata": {
        "id": "9FNK6P4IoESg"
      },
      "execution_count": 68,
      "outputs": []
    },
    {
      "cell_type": "code",
      "source": [
        "for w in words: print(RS_stemmer.stem(w), end = ' ')"
      ],
      "metadata": {
        "colab": {
          "base_uri": "https://localhost:8080/"
        },
        "id": "gJjaBt0yoGZY",
        "outputId": "a694aab0-912b-4196-bc94-b6ecd2b7d974"
      },
      "execution_count": 69,
      "outputs": [
        {
          "output_type": "stream",
          "name": "stdout",
          "text": [
            "Dear Editors , Greeting , This is Jihoon Moon , the co-author of CLUS-D-21-00843R2 . I am contacting you because I wonder how the process of our manuscript is going . We think all the preparations have been made for journal publication . Hover , it has been two months since  submitted the final revision , and  have not received any response . Could  know when  will receive the proofread or know another process for journal publication ? Thank you very much for your efforts in the publication of our study . We are looking forward to hearing from you soon . Best regards , Jihoon Moon , Ph.D . "
          ]
        }
      ]
    },
    {
      "cell_type": "code",
      "source": [
        "#2. N-gram (엔그램)\n",
        "\n",
        "#ngrams 라이브러리\n",
        "# ngrams 함수의 두번째 인자에 n을 입력하면 엔그램 적용이 가능"
      ],
      "metadata": {
        "id": "a522oMdBoL48"
      },
      "execution_count": 70,
      "outputs": []
    },
    {
      "cell_type": "code",
      "source": [
        "from nltk import ngrams"
      ],
      "metadata": {
        "id": "3J9sJR4qobw6"
      },
      "execution_count": 71,
      "outputs": []
    },
    {
      "cell_type": "code",
      "source": [
        "grams = ngrams(new_text.split(), 2)"
      ],
      "metadata": {
        "id": "wgrliz-2odj3"
      },
      "execution_count": 72,
      "outputs": []
    },
    {
      "cell_type": "code",
      "source": [
        "for gram in grams: print(gram, end = ' ')"
      ],
      "metadata": {
        "colab": {
          "base_uri": "https://localhost:8080/"
        },
        "id": "_LW62XScofR0",
        "outputId": "11627e75-5da1-4d4a-e13e-3591c64295ef"
      },
      "execution_count": 73,
      "outputs": [
        {
          "output_type": "stream",
          "name": "stdout",
          "text": [
            "('Dear', 'Editors,') ('Editors,', 'Greeting,') ('Greeting,', 'This') ('This', 'is') ('is', 'Jihoon') ('Jihoon', 'Moon,') ('Moon,', 'the') ('the', 'co-author') ('co-author', 'of') ('of', 'CLUS-D-21-00843R2.') ('CLUS-D-21-00843R2.', 'I') ('I', 'am') ('am', 'contacting') ('contacting', 'you') ('you', 'because') ('because', 'I') ('I', 'wonder') ('wonder', 'how') ('how', 'the') ('the', 'process') ('process', 'of') ('of', 'our') ('our', 'manuscript') ('manuscript', 'is') ('is', 'going.') ('going.', 'We') ('We', 'think') ('think', 'all') ('all', 'the') ('the', 'preparations') ('preparations', 'have') ('have', 'been') ('been', 'made') ('made', 'for') ('for', 'journal') ('journal', 'publication.') ('publication.', 'However,') ('However,', 'it') ('it', 'has') ('has', 'been') ('been', 'two') ('two', 'months') ('months', 'since') ('since', 'we') ('we', 'submitted') ('submitted', 'the') ('the', 'final') ('final', 'revision,') ('revision,', 'and') ('and', 'we') ('we', 'have') ('have', 'not') ('not', 'received') ('received', 'any') ('any', 'response.') ('response.', 'Could') ('Could', 'we') ('we', 'know') ('know', 'when') ('when', 'we') ('we', 'will') ('will', 'receive') ('receive', 'the') ('the', 'proofread') ('proofread', 'or') ('or', 'know') ('know', 'another') ('another', 'process') ('process', 'for') ('for', 'journal') ('journal', 'publication?') ('publication?', 'Thank') ('Thank', 'you') ('you', 'very') ('very', 'much') ('much', 'for') ('for', 'your') ('your', 'efforts') ('efforts', 'in') ('in', 'the') ('the', 'publication') ('publication', 'of') ('of', 'our') ('our', 'study.') ('study.', 'We') ('We', 'are') ('are', 'looking') ('looking', 'forward') ('forward', 'to') ('to', 'hearing') ('hearing', 'from') ('from', 'you') ('you', 'soon.') ('soon.', 'Best') ('Best', 'regards,') ('regards,', 'Jihoon') ('Jihoon', 'Moon,') ('Moon,', 'Ph.D.') "
          ]
        }
      ]
    },
    {
      "cell_type": "code",
      "source": [
        "#3.품사분석(1)\n",
        "#품사분석(POS)\n",
        "#문장을 구성하는 개별 단어는 문장 안에서 고유한 문법적인 기능을 수행한다.\n",
        "#예 : 명사, 동사, 형용사 등"
      ],
      "metadata": {
        "id": "E5-LOpVnohRi"
      },
      "execution_count": 74,
      "outputs": []
    },
    {
      "cell_type": "code",
      "source": [
        "#KoNLPy 패키지\n",
        "#문자의 개수가 많아지면 Kkma 클래스의 실행 시간이 현저하게 늘어남을 확인\n",
        "#Kkma는 외래어, 외국어, 방언 등의 다양한 표현을 모두 인지할 수 있어 정확도가 좋은 클래스다."
      ],
      "metadata": {
        "id": "v-QCtltVoraU"
      },
      "execution_count": 75,
      "outputs": []
    },
    {
      "cell_type": "markdown",
      "source": [
        "**학습 목표**\n",
        "\n",
        "품사 분석을 수행하기 위한 JAVA 환경 설치와 환경변수를 추가할 수 있다.\n",
        "\n",
        "KoNLPy 패키지를 통해 한국어 텍스트 데이터의 품사를 분석할 수 있다.\n",
        "\n",
        ": Hannanum, Kkma, Okt\n",
        "\n",
        "NLTK 라이브러리를 통해 영어 텍스트 데이터의 품사를 분석할 수 있다."
      ],
      "metadata": {
        "id": "bQ5pEg1Kpb_K"
      }
    },
    {
      "cell_type": "code",
      "source": [
        "!pip install konlpy"
      ],
      "metadata": {
        "colab": {
          "base_uri": "https://localhost:8080/"
        },
        "id": "nImfT7M-p8kh",
        "outputId": "94d39fec-e7f0-4c32-b624-21cd306190f6"
      },
      "execution_count": 79,
      "outputs": [
        {
          "output_type": "stream",
          "name": "stdout",
          "text": [
            "Looking in indexes: https://pypi.org/simple, https://us-python.pkg.dev/colab-wheels/public/simple/\n",
            "Collecting konlpy\n",
            "  Downloading konlpy-0.6.0-py2.py3-none-any.whl (19.4 MB)\n",
            "\u001b[K     |████████████████████████████████| 19.4 MB 581 kB/s \n",
            "\u001b[?25hRequirement already satisfied: numpy>=1.6 in /usr/local/lib/python3.8/dist-packages (from konlpy) (1.21.6)\n",
            "Requirement already satisfied: lxml>=4.1.0 in /usr/local/lib/python3.8/dist-packages (from konlpy) (4.9.1)\n",
            "Collecting JPype1>=0.7.0\n",
            "  Downloading JPype1-1.4.1-cp38-cp38-manylinux_2_12_x86_64.manylinux2010_x86_64.whl (465 kB)\n",
            "\u001b[K     |████████████████████████████████| 465 kB 39.8 MB/s \n",
            "\u001b[?25hRequirement already satisfied: packaging in /usr/local/lib/python3.8/dist-packages (from JPype1>=0.7.0->konlpy) (21.3)\n",
            "Requirement already satisfied: pyparsing!=3.0.5,>=2.0.2 in /usr/local/lib/python3.8/dist-packages (from packaging->JPype1>=0.7.0->konlpy) (3.0.9)\n",
            "Installing collected packages: JPype1, konlpy\n",
            "Successfully installed JPype1-1.4.1 konlpy-0.6.0\n"
          ]
        }
      ]
    },
    {
      "cell_type": "code",
      "source": [
        "#1. 품사분석(2)\n",
        "#Hannanum, Kkma, Twitter->Okt\n",
        "\n",
        "from konlpy.tag import Hannanum"
      ],
      "metadata": {
        "id": "7NXAtGGHpPM9"
      },
      "execution_count": 80,
      "outputs": []
    },
    {
      "cell_type": "code",
      "source": [
        "hannanum= Hannanum()"
      ],
      "metadata": {
        "id": "7Ph1KaYHp0zj"
      },
      "execution_count": 81,
      "outputs": []
    },
    {
      "cell_type": "code",
      "source": [
        "#품사분석 수행하기\n",
        "#현재 파이썬 비트 확인\n",
        "import platform\n",
        "print(platform.architecture())"
      ],
      "metadata": {
        "colab": {
          "base_uri": "https://localhost:8080/"
        },
        "id": "jH-GaUJLqFAe",
        "outputId": "499f369e-12af-4dbd-ad96-b3e7d2d4aab4"
      },
      "execution_count": 83,
      "outputs": [
        {
          "output_type": "stream",
          "name": "stdout",
          "text": [
            "('64bit', '')\n"
          ]
        }
      ]
    },
    {
      "cell_type": "code",
      "source": [
        "#Hannanum 라이브러리 사용하기\n",
        "#morphs : 문장의 형태소를 끊어줌\n",
        "#nouns : 문장에서 명사만을 추출\n",
        "\n",
        "print(hannanum.morphs(\"유성이 비처럼 쏟아지는 하늘 그 아래 너와 함께 춤추고 싶어 색색의 옷들과 예쁜 액세서리\"))"
      ],
      "metadata": {
        "colab": {
          "base_uri": "https://localhost:8080/"
        },
        "id": "0OcK7DGiqN4A",
        "outputId": "6029f4b9-04db-43dc-c065-f30710c6e373"
      },
      "execution_count": 85,
      "outputs": [
        {
          "output_type": "stream",
          "name": "stdout",
          "text": [
            "['유성', '이', '비', '처럼', '쏟', '아', '지', '는', '하늘', '그', '아래', '너', '와', '함께', '춤추', '고', '싶', '어', '색색', '의', '옷', '들', '과', '예쁘', 'ㄴ', '액세서리']\n"
          ]
        }
      ]
    },
    {
      "cell_type": "code",
      "source": [
        "print(hannanum.nouns(\"유성이 비처럼 쏟아지는 하늘 그 아래 너와 함께 춤추고 싶어 색색의 옷들과 예쁜 액세서리\"))"
      ],
      "metadata": {
        "colab": {
          "base_uri": "https://localhost:8080/"
        },
        "id": "-bR29VgaqiCP",
        "outputId": "3fc92ab7-81b8-4ece-b7ff-110ddf59c362"
      },
      "execution_count": 86,
      "outputs": [
        {
          "output_type": "stream",
          "name": "stdout",
          "text": [
            "['유성', '비', '하늘', '아래', '너', '색색', '옷', '액세서리']\n"
          ]
        }
      ]
    },
    {
      "cell_type": "code",
      "source": [
        "#POS : 문장이 속한 각 형태소에 품사를 태깅\n",
        "\n",
        "print(hannanum.pos(\"유성이 비처럼 쏟아지는 하늘 그 아래 너와 함께 춤추고 싶어 색색의 옷들과 예쁜 액세서리 흐르는 저 음악이 내 맘을  설레게 하지\", ntags= 9))"
      ],
      "metadata": {
        "colab": {
          "base_uri": "https://localhost:8080/"
        },
        "id": "_xzEVJ6Tq4ne",
        "outputId": "6fb4ebdc-33ff-4bd1-c0e2-c44e7a0b0c33"
      },
      "execution_count": 87,
      "outputs": [
        {
          "output_type": "stream",
          "name": "stdout",
          "text": [
            "[('유성', 'N'), ('이', 'J'), ('비', 'N'), ('처럼', 'J'), ('쏟', 'P'), ('아', 'E'), ('지', 'P'), ('는', 'E'), ('하늘', 'N'), ('그', 'M'), ('아래', 'N'), ('너', 'N'), ('와', 'J'), ('함께', 'M'), ('춤추', 'P'), ('고', 'E'), ('싶', 'P'), ('어', 'E'), ('색색', 'N'), ('의', 'J'), ('옷', 'N'), ('들', 'X'), ('과', 'J'), ('예쁘', 'P'), ('ㄴ', 'E'), ('액세서리', 'N'), ('흐르', 'P'), ('는', 'E'), ('저', 'N'), ('음악', 'N'), ('이', 'J'), ('내', 'P'), ('어', 'E'), ('말', 'P'), ('ㅁ', 'E'), ('을', 'J'), ('설레', 'P'), ('게', 'E'), ('하', 'P'), ('지', 'E')]\n"
          ]
        }
      ]
    },
    {
      "cell_type": "code",
      "source": [
        "print(hannanum.pos(\"유성이 비처럼 쏟아지는 하늘 그 아래 너와 함께 춤추고 싶어 색색의 옷들과 예쁜 액세서리 흐르는 저 음악이 내 맘을  설레게 하지\", ntags= 22))"
      ],
      "metadata": {
        "colab": {
          "base_uri": "https://localhost:8080/"
        },
        "id": "g2bfNy7_rDRx",
        "outputId": "4f2a53b3-14cf-4e5d-8ac5-af8e2c8bc333"
      },
      "execution_count": 88,
      "outputs": [
        {
          "output_type": "stream",
          "name": "stdout",
          "text": [
            "[('유성', 'NC'), ('이', 'JC'), ('비', 'NC'), ('처럼', 'JC'), ('쏟', 'PV'), ('아', 'EC'), ('지', 'PX'), ('는', 'ET'), ('하늘', 'NC'), ('그', 'MM'), ('아래', 'NC'), ('너', 'NP'), ('와', 'JC'), ('함께', 'MA'), ('춤추', 'PV'), ('고', 'EC'), ('싶', 'PX'), ('어', 'EC'), ('색색', 'NC'), ('의', 'JC'), ('옷', 'NC'), ('들', 'XS'), ('과', 'JC'), ('예쁘', 'PA'), ('ㄴ', 'ET'), ('액세서리', 'NC'), ('흐르', 'PV'), ('는', 'ET'), ('저', 'NP'), ('음악', 'NC'), ('이', 'JC'), ('내', 'PV'), ('어', 'EC'), ('말', 'PX'), ('ㅁ', 'ET'), ('을', 'JC'), ('설레', 'PV'), ('게', 'EC'), ('하', 'PV'), ('지', 'EC')]\n"
          ]
        }
      ]
    },
    {
      "cell_type": "code",
      "source": [
        "#Kkma 라이브러리 사용하기\n",
        "from konlpy.tag import Kkma"
      ],
      "metadata": {
        "id": "H7FEy0EErISl"
      },
      "execution_count": 89,
      "outputs": []
    },
    {
      "cell_type": "code",
      "source": [
        "kkma= Kkma()"
      ],
      "metadata": {
        "id": "1Nel_yhorSf-"
      },
      "execution_count": 90,
      "outputs": []
    },
    {
      "cell_type": "code",
      "source": [
        "print(kkma.morphs(\"유성이 비처럼 쏟아지는 하늘 그 아래 너와 함께 춤추고 싶어 색색의 옷들과 예쁜 액세서리\"))"
      ],
      "metadata": {
        "colab": {
          "base_uri": "https://localhost:8080/"
        },
        "id": "Eqo6hAObrT2Q",
        "outputId": "28d7407b-2e49-441a-a551-651a59dd44a2"
      },
      "execution_count": 91,
      "outputs": [
        {
          "output_type": "stream",
          "name": "stdout",
          "text": [
            "['유성', '이', '비', '처럼', '쏟아지', '는', '하늘', '그', '아래', '너', '와', '함께', '춤추', '고', '싶', '어', '색색', '의', '옷', '들', '과', '예쁘', 'ㄴ', '액세서리']\n"
          ]
        }
      ]
    },
    {
      "cell_type": "code",
      "source": [
        "print(kkma.nouns(\"유성이 비처럼 쏟아지는 하늘 그 아래 너와 함께 춤추고 싶어 색색의 옷들과 예쁜 액세서리\"))"
      ],
      "metadata": {
        "colab": {
          "base_uri": "https://localhost:8080/"
        },
        "id": "KAx43qV3rcC8",
        "outputId": "6fd8a595-6c2c-40e6-f051-c5edc311f3e4"
      },
      "execution_count": 92,
      "outputs": [
        {
          "output_type": "stream",
          "name": "stdout",
          "text": [
            "['유성', '비', '하늘', '아래', '너', '색색', '옷', '액세서리']\n"
          ]
        }
      ]
    },
    {
      "cell_type": "code",
      "source": [
        "print(kkma.pos(\"유성이 비처럼 쏟아지는 하늘 그 아래 너와 함께 춤추고 싶어 색색의 옷들과 예쁜 액세서리 흐르는 저 음악이 내 맘을  설레게 하지\"))"
      ],
      "metadata": {
        "colab": {
          "base_uri": "https://localhost:8080/"
        },
        "id": "eadnEzBvrWxa",
        "outputId": "d4ce1b72-b0bd-4444-8b63-1b05fc73a7d4"
      },
      "execution_count": 93,
      "outputs": [
        {
          "output_type": "stream",
          "name": "stdout",
          "text": [
            "[('유성', 'NNG'), ('이', 'JKS'), ('비', 'NNG'), ('처럼', 'JKM'), ('쏟아지', 'VV'), ('는', 'ETD'), ('하늘', 'NNG'), ('그', 'MDT'), ('아래', 'NNG'), ('너', 'NP'), ('와', 'JKM'), ('함께', 'MAG'), ('춤추', 'VV'), ('고', 'ECE'), ('싶', 'VXA'), ('어', 'ECD'), ('색색', 'NNG'), ('의', 'JKG'), ('옷', 'NNG'), ('들', 'XSN'), ('과', 'JKO'), ('예쁘', 'VA'), ('ㄴ', 'ETD'), ('액세서리', 'NNG'), ('흐르', 'VV'), ('는', 'ETD'), ('저', 'MDT'), ('음악', 'NNG'), ('이', 'JKS'), ('내', 'NP'), ('맘', 'NNG'), ('을', 'JKO'), ('설레', 'VV'), ('게', 'ECD'), ('하', 'VV'), ('지', 'ECD')]\n"
          ]
        }
      ]
    },
    {
      "cell_type": "code",
      "source": [
        "#Okt 라이브러리 사용하기\n",
        "from konlpy.tag import Okt"
      ],
      "metadata": {
        "id": "OcGewjHarlEl"
      },
      "execution_count": 94,
      "outputs": []
    },
    {
      "cell_type": "code",
      "source": [
        "okt= Okt()"
      ],
      "metadata": {
        "id": "_o2oK8PLrqZB"
      },
      "execution_count": 95,
      "outputs": []
    },
    {
      "cell_type": "code",
      "source": [
        "print(okt.morphs(\"유성이 비처럼 쏟아지는 하늘 그 아래 너와 함께 춤추고 싶어 색색의 옷들과 예쁜 액세서리\"))"
      ],
      "metadata": {
        "colab": {
          "base_uri": "https://localhost:8080/"
        },
        "id": "rDMJwYGQrrsE",
        "outputId": "8aff4ccb-98b1-43e4-c17c-a890ac5c813d"
      },
      "execution_count": 96,
      "outputs": [
        {
          "output_type": "stream",
          "name": "stdout",
          "text": [
            "['유성', '이', '비처럼', '쏟아지는', '하늘', '그', '아래', '너', '와', '함께', '춤추고', '싶어', '색색', '의', '옷', '들', '과', '예쁜', '액세서리']\n"
          ]
        }
      ]
    },
    {
      "cell_type": "code",
      "source": [
        "print(okt.nouns(\"유성이 비처럼 쏟아지는 하늘 그 아래 너와 함께 춤추고 싶어 색색의 옷들과 예쁜 액세서리\"))"
      ],
      "metadata": {
        "colab": {
          "base_uri": "https://localhost:8080/"
        },
        "id": "J3L4nFG2ruxb",
        "outputId": "12f50252-bbab-46bd-bb43-a8eb9015a8a0"
      },
      "execution_count": 97,
      "outputs": [
        {
          "output_type": "stream",
          "name": "stdout",
          "text": [
            "['유성', '비처럼', '하늘', '그', '아래', '너', '색색', '옷', '액세서리']\n"
          ]
        }
      ]
    },
    {
      "cell_type": "code",
      "source": [
        "print(okt.pos(\"유성이 비처럼 쏟아지는 하늘 그 아래 너와 함께 춤추고 싶어 색색의 옷들과 예쁜 액세서리 흐르는 저 음악이 내 맘을  설레게 하지\"))"
      ],
      "metadata": {
        "colab": {
          "base_uri": "https://localhost:8080/"
        },
        "id": "nrKo-Q4Ar1we",
        "outputId": "49bcff9f-cf4c-4f40-d784-787387b4ced5"
      },
      "execution_count": 98,
      "outputs": [
        {
          "output_type": "stream",
          "name": "stdout",
          "text": [
            "[('유성', 'Noun'), ('이', 'Josa'), ('비처럼', 'Noun'), ('쏟아지는', 'Verb'), ('하늘', 'Noun'), ('그', 'Noun'), ('아래', 'Noun'), ('너', 'Noun'), ('와', 'Josa'), ('함께', 'Adverb'), ('춤추고', 'Verb'), ('싶어', 'Verb'), ('색색', 'Noun'), ('의', 'Josa'), ('옷', 'Noun'), ('들', 'Suffix'), ('과', 'Josa'), ('예쁜', 'Adjective'), ('액세서리', 'Noun'), ('흐르는', 'Verb'), ('저', 'Noun'), ('음악', 'Noun'), ('이', 'Josa'), ('내', 'Noun'), ('맘', 'Noun'), ('을', 'Josa'), ('설레게', 'Adjective'), ('하지', 'Verb')]\n"
          ]
        }
      ]
    },
    {
      "cell_type": "code",
      "source": [
        "print(okt.phrases(\"유성이 비처럼 쏟아지는 하늘 그 아래 너와 함께 춤추고 싶어 색색의 옷들과 예쁜 액세서리 흐르는 저 음악이 내 맘을  설레게 하지\"))"
      ],
      "metadata": {
        "colab": {
          "base_uri": "https://localhost:8080/"
        },
        "id": "g969zS4or5lo",
        "outputId": "bc70a95e-3951-458c-f419-4eec4c13f174"
      },
      "execution_count": 99,
      "outputs": [
        {
          "output_type": "stream",
          "name": "stdout",
          "text": [
            "['유성', '비처럼', '비처럼 쏟아지는 하늘', '비처럼 쏟아지는 하늘 그', '비처럼 쏟아지는 하늘 그 아래', '비처럼 쏟아지는 하늘 그 아래 너', '색색', '색색의 옷들', '색색의 옷들과 예쁜 액세서리', '색색의 옷들과 예쁜 액세서리 흐르는 저', '하늘', '아래', '옷들', '액세서리', '음악']\n"
          ]
        }
      ]
    },
    {
      "cell_type": "code",
      "source": [
        "#영어 품사 분석하기\n",
        "#NLTK 라이브러리 이용하기\n",
        "from nltk import pos_tag"
      ],
      "metadata": {
        "id": "E2BZvNvssC_4"
      },
      "execution_count": 100,
      "outputs": []
    },
    {
      "cell_type": "code",
      "source": [
        "import nltk"
      ],
      "metadata": {
        "id": "sX-CyQSgsL4C"
      },
      "execution_count": 101,
      "outputs": []
    },
    {
      "cell_type": "code",
      "source": [
        "nltk.download('averaged_perceptron_tagger')"
      ],
      "metadata": {
        "colab": {
          "base_uri": "https://localhost:8080/"
        },
        "id": "YliLm5T_sM59",
        "outputId": "2a252da1-fdfe-48e9-b477-3984881ad81d"
      },
      "execution_count": 102,
      "outputs": [
        {
          "output_type": "stream",
          "name": "stderr",
          "text": [
            "[nltk_data] Downloading package averaged_perceptron_tagger to\n",
            "[nltk_data]     /root/nltk_data...\n",
            "[nltk_data]   Unzipping taggers/averaged_perceptron_tagger.zip.\n"
          ]
        },
        {
          "output_type": "execute_result",
          "data": {
            "text/plain": [
              "True"
            ]
          },
          "metadata": {},
          "execution_count": 102
        }
      ]
    },
    {
      "cell_type": "code",
      "source": [
        "tokens = \"I feel the disco rhythm in my body.\".split()"
      ],
      "metadata": {
        "id": "O8rDmw7KsOq1"
      },
      "execution_count": 103,
      "outputs": []
    },
    {
      "cell_type": "code",
      "source": [
        "tags_en= pos_tag(tokens)"
      ],
      "metadata": {
        "id": "-ELSmUxFsSGt"
      },
      "execution_count": 104,
      "outputs": []
    },
    {
      "cell_type": "code",
      "source": [
        "print(tags_en)"
      ],
      "metadata": {
        "colab": {
          "base_uri": "https://localhost:8080/"
        },
        "id": "FGKmRe-EsUAD",
        "outputId": "c588bcb6-e196-4223-d528-569cb4c0809b"
      },
      "execution_count": 105,
      "outputs": [
        {
          "output_type": "stream",
          "name": "stdout",
          "text": [
            "[('I', 'PRP'), ('feel', 'VBP'), ('the', 'DT'), ('disco', 'NN'), ('rhythm', 'NN'), ('in', 'IN'), ('my', 'PRP$'), ('body.', 'NN')]\n"
          ]
        }
      ]
    }
  ]
}